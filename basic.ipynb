{
 "cells": [
  {
   "cell_type": "code",
   "execution_count": 1,
   "id": "ed9696ed",
   "metadata": {},
   "outputs": [
    {
     "name": "stdout",
     "output_type": "stream",
     "text": [
      "hello\n"
     ]
    }
   ],
   "source": [
    "print(\"hello\")"
   ]
  },
  {
   "cell_type": "code",
   "execution_count": 2,
   "id": "7a7085a1",
   "metadata": {},
   "outputs": [
    {
     "name": "stdout",
     "output_type": "stream",
     "text": [
      "hello world\n"
     ]
    }
   ],
   "source": [
    "print('hello world')"
   ]
  },
  {
   "cell_type": "code",
   "execution_count": 3,
   "id": "415bd075",
   "metadata": {},
   "outputs": [
    {
     "name": "stdout",
     "output_type": "stream",
     "text": [
      "5\n"
     ]
    }
   ],
   "source": [
    "a=2\n",
    "b=3\n",
    "c=a+b\n",
    "print(c)"
   ]
  },
  {
   "cell_type": "code",
   "execution_count": 4,
   "id": "47816263",
   "metadata": {},
   "outputs": [
    {
     "name": "stdout",
     "output_type": "stream",
     "text": [
      "1.1666666666666667\n"
     ]
    }
   ],
   "source": [
    "a=7\n",
    "b=6\n",
    "c=a/b\n",
    "print(c)"
   ]
  },
  {
   "cell_type": "code",
   "execution_count": 5,
   "id": "22e0e280",
   "metadata": {},
   "outputs": [
    {
     "name": "stdout",
     "output_type": "stream",
     "text": [
      "1\n"
     ]
    }
   ],
   "source": [
    "#double division \n",
    "a=7\n",
    "b=6\n",
    "c=a//b\n",
    "print(c)"
   ]
  },
  {
   "cell_type": "code",
   "execution_count": 6,
   "id": "24b84546",
   "metadata": {},
   "outputs": [
    {
     "name": "stdout",
     "output_type": "stream",
     "text": [
      "1\n"
     ]
    }
   ],
   "source": [
    "a=7\n",
    "b=6\n",
    "c=a%b\n",
    "print(c)"
   ]
  },
  {
   "cell_type": "code",
   "execution_count": 7,
   "id": "02297c9b",
   "metadata": {},
   "outputs": [
    {
     "name": "stdout",
     "output_type": "stream",
     "text": [
      "Before Swapping: 2 3\n",
      "After Swapping: 3 2\n"
     ]
    }
   ],
   "source": [
    "#WAP to swap two numbers with third variable\n",
    "a=2\n",
    "b=3\n",
    "print(\"Before Swapping:\", a,b)\n",
    "c=b\n",
    "b=a\n",
    "a=c\n",
    "print(\"After Swapping:\" ,a,b)"
   ]
  },
  {
   "cell_type": "code",
   "execution_count": 8,
   "id": "29633234",
   "metadata": {},
   "outputs": [
    {
     "name": "stdout",
     "output_type": "stream",
     "text": [
      "5 3\n"
     ]
    }
   ],
   "source": [
    "#WAP to swap two numbers without third variable\n",
    "a=3\n",
    "b=5\n",
    "a,b = b,a\n",
    "print(a,b)"
   ]
  },
  {
   "cell_type": "code",
   "execution_count": 9,
   "id": "e80b518d",
   "metadata": {},
   "outputs": [
    {
     "name": "stdout",
     "output_type": "stream",
     "text": [
      "Enter first number7\n",
      "Enter second number6\n",
      "13\n"
     ]
    }
   ],
   "source": [
    "# WAP to Add two numbers using user input\n",
    "a=int(input(\"Enter first number\"))\n",
    "b=int(input(\"Enter second number\"))\n",
    "c=a+b\n",
    "print(c)"
   ]
  },
  {
   "cell_type": "code",
   "execution_count": 10,
   "id": "35e6cb29",
   "metadata": {},
   "outputs": [
    {
     "name": "stdout",
     "output_type": "stream",
     "text": [
      "Enter Something!!qwasdfghjk\n"
     ]
    },
    {
     "data": {
      "text/plain": [
       "'qwasdfghjk'"
      ]
     },
     "execution_count": 10,
     "metadata": {},
     "output_type": "execute_result"
    }
   ],
   "source": [
    "x= input(\"Enter Something!!\") # by default output is string\n",
    "x"
   ]
  },
  {
   "cell_type": "code",
   "execution_count": 11,
   "id": "3a865f28",
   "metadata": {},
   "outputs": [
    {
     "name": "stdout",
     "output_type": "stream",
     "text": [
      "Enter first number12.3\n",
      "Enter second number23\n",
      "35.3\n"
     ]
    }
   ],
   "source": [
    "a=float(input(\"Enter first number\"))\n",
    "b=int(input(\"Enter second number\"))\n",
    "c=a+b\n",
    "print(c)"
   ]
  },
  {
   "cell_type": "code",
   "execution_count": 1,
   "id": "cee12dc8",
   "metadata": {},
   "outputs": [
    {
     "name": "stdout",
     "output_type": "stream",
     "text": [
      "Enter first number4\n",
      "Enter second number3\n",
      "7.0\n"
     ]
    }
   ],
   "source": [
    "a=float(input(\"Enter first number\"))\n",
    "b=int(input(\"Enter second number\"))\n",
    "c=a+b\n",
    "print(c)"
   ]
  },
  {
   "cell_type": "code",
   "execution_count": 2,
   "id": "f96f6789",
   "metadata": {},
   "outputs": [
    {
     "name": "stdout",
     "output_type": "stream",
     "text": [
      "Enter first number34\n",
      "Enter second number4\n"
     ]
    },
    {
     "ename": "TypeError",
     "evalue": "unsupported operand type(s) for +: 'float' and 'str'",
     "output_type": "error",
     "traceback": [
      "\u001b[1;31m---------------------------------------------------------------------------\u001b[0m",
      "\u001b[1;31mTypeError\u001b[0m                                 Traceback (most recent call last)",
      "\u001b[1;32m~\\AppData\\Local\\Temp/ipykernel_18028/2020014405.py\u001b[0m in \u001b[0;36m<module>\u001b[1;34m\u001b[0m\n\u001b[0;32m      1\u001b[0m \u001b[0ma\u001b[0m\u001b[1;33m=\u001b[0m\u001b[0mfloat\u001b[0m\u001b[1;33m(\u001b[0m\u001b[0minput\u001b[0m\u001b[1;33m(\u001b[0m\u001b[1;34m\"Enter first number\"\u001b[0m\u001b[1;33m)\u001b[0m\u001b[1;33m)\u001b[0m\u001b[1;33m\u001b[0m\u001b[1;33m\u001b[0m\u001b[0m\n\u001b[0;32m      2\u001b[0m \u001b[0mb\u001b[0m\u001b[1;33m=\u001b[0m\u001b[1;33m(\u001b[0m\u001b[0minput\u001b[0m\u001b[1;33m(\u001b[0m\u001b[1;34m\"Enter second number\"\u001b[0m\u001b[1;33m)\u001b[0m\u001b[1;33m)\u001b[0m\u001b[1;33m\u001b[0m\u001b[1;33m\u001b[0m\u001b[0m\n\u001b[1;32m----> 3\u001b[1;33m \u001b[0mc\u001b[0m\u001b[1;33m=\u001b[0m\u001b[0ma\u001b[0m\u001b[1;33m+\u001b[0m\u001b[0mb\u001b[0m\u001b[1;33m\u001b[0m\u001b[1;33m\u001b[0m\u001b[0m\n\u001b[0m\u001b[0;32m      4\u001b[0m \u001b[0mprint\u001b[0m\u001b[1;33m(\u001b[0m\u001b[0mc\u001b[0m\u001b[1;33m)\u001b[0m\u001b[1;33m\u001b[0m\u001b[1;33m\u001b[0m\u001b[0m\n",
      "\u001b[1;31mTypeError\u001b[0m: unsupported operand type(s) for +: 'float' and 'str'"
     ]
    }
   ],
   "source": [
    "a=float(input(\"Enter first number\"))\n",
    "b=(input(\"Enter second number\"))\n",
    "c=a+b\n",
    "print(c)"
   ]
  },
  {
   "cell_type": "code",
   "execution_count": 3,
   "id": "9fff499a",
   "metadata": {},
   "outputs": [
    {
     "name": "stdout",
     "output_type": "stream",
     "text": [
      "Enter marks of English: 65\n",
      "Enter marks of Hindi: 34\n",
      "Enter marks of Computer:56\n",
      "51.666666666666664\n"
     ]
    }
   ],
   "source": [
    "# WAP to find avg of student in 3 subject\n",
    "English=eval(input(\"Enter marks of English: \"))\n",
    "Hindi= eval(input(\"Enter marks of Hindi: \"))\n",
    "Computer=eval(input(\"Enter marks of Computer:\"))\n",
    "total=(English+Hindi+Computer)/3\n",
    "print(total)\n",
    "\n"
   ]
  },
  {
   "cell_type": "code",
   "execution_count": 3,
   "id": "bfec50d8",
   "metadata": {},
   "outputs": [
    {
     "name": "stdout",
     "output_type": "stream",
     "text": [
      "Odd\n",
      "There is holiday\n"
     ]
    }
   ],
   "source": [
    "# WAP to find the odd or even number\n",
    "a=23\n",
    "if a%2==0:\n",
    "    print(\"Even\")\n",
    "else:\n",
    "    print(\"Odd\")\n",
    "# WAP to find the individual is child or not\n",
    "a= input(\"Enter Age:\")\n",
    "\n",
    "if a>=18:\n",
    "    print(\"Adult\")\n",
    "else:\n",
    "    print(\"Chlid\")\n",
    "# WAP to find if there is rain outside or not\n",
    "a=input(\"Enter temperature:\")\n",
    "if a>20:\n",
    "    print(\"Sunny Day\")\n",
    "\n",
    "\n",
    "# WAP to print holiday if there is sunday otherwise print boring day\n",
    "a = 'Sunday'\n",
    "if a=='Sunday':\n",
    "    print(\"There is holiday\")\n",
    "    \n",
    "else:\n",
    "    print(\"boring Date\")\n"
   ]
  },
  {
   "cell_type": "code",
   "execution_count": 3,
   "id": "e914c1ce",
   "metadata": {},
   "outputs": [
    {
     "name": "stdout",
     "output_type": "stream",
     "text": [
      "Enter age:18\n",
      "Teenager\n"
     ]
    }
   ],
   "source": [
    "age = int(input(\"Enter age:\"))\n",
    "if age>18:\n",
    "    print(\"Adult\")\n",
    "elif age==18:\n",
    "    print(\"Teenager\")\n",
    "else:\n",
    "    print(\"Child\")"
   ]
  },
  {
   "cell_type": "code",
   "execution_count": 4,
   "id": "144f9d52",
   "metadata": {},
   "outputs": [
    {
     "name": "stdout",
     "output_type": "stream",
     "text": [
      "Length34\n",
      "breadth45\n",
      "Area23\n",
      "No square\n"
     ]
    }
   ],
   "source": [
    "l= int(input(\"Length\"))\n",
    "b=int(input(\"breadth\"))\n",
    "a=int(input(\"Area\"))\n",
    "area_of_rect= l*b\n",
    "area_of_square=a**2\n",
    "\n",
    "if area_of_rect == area_of_square:\n",
    "    print(\"It is Square\")\n",
    "else:\n",
    "    print(\"No square\")"
   ]
  },
  {
   "cell_type": "code",
   "execution_count": 6,
   "id": "32fb36a9",
   "metadata": {},
   "outputs": [
    {
     "name": "stdout",
     "output_type": "stream",
     "text": [
      "Enter Total class45\n",
      "Enter Total class attended34\n",
      "75.55555555555556\n",
      "Allowed\n"
     ]
    }
   ],
   "source": [
    "class_held=int(input(\"Enter Total class\"))\n",
    "class_attend=int(input(\"Enter Total class attended\"))\n",
    "\n",
    "percent=(class_attend/class_held)*100\n",
    "print(percent)\n",
    "\n",
    "if percent>75:\n",
    "    print(\"Allowed\")\n",
    "else:\n",
    "    print(\"Not Allowed\")"
   ]
  },
  {
   "cell_type": "code",
   "execution_count": 8,
   "id": "fdb37937",
   "metadata": {},
   "outputs": [
    {
     "name": "stdout",
     "output_type": "stream",
     "text": [
      "Enter Total class50\n",
      "Enter Total class attended23\n",
      "46.0\n",
      "Enter Y for yes and N for NoY\n",
      "Allowed\n"
     ]
    }
   ],
   "source": [
    "class_held=int(input(\"Enter Total class\"))\n",
    "class_attend=int(input(\"Enter Total class attended\"))\n",
    "\n",
    "percent=(class_attend/class_held)*100\n",
    "print(percent)\n",
    "\n",
    "if percent>75:\n",
    "    print(\"Allowed\") \n",
    "else:\n",
    "    med=input(\"Enter Y for yes and N for No\")\n",
    "    if med== \"Y\":\n",
    "        print(\"Allowed\")\n",
    "    else:\n",
    "        print(\"Not Allowed\")"
   ]
  },
  {
   "cell_type": "code",
   "execution_count": null,
   "id": "6fa5bde7",
   "metadata": {},
   "outputs": [],
   "source": [
    "class_held=int(input(\"Enter Total class\"))\n",
    "class_attend=int(input(\"Enter Total class attended\"))\n",
    "\n",
    "percent=(class_attend/class_held)*100\n",
    "print(percent)\n",
    "\n",
    "if percent>75:\n",
    "    print(\"Allowed\") \n",
    "else:\n",
    "    med=input(\"Enter Y for yes and N for No\")\n",
    "    if med== \"Y\":\n",
    "        print(\"Allowed\")\n",
    "    else:\n",
    "        \n",
    "        print(\"Not Allowed\")"
   ]
  },
  {
   "cell_type": "code",
   "execution_count": 8,
   "id": "0e6a8ad1",
   "metadata": {},
   "outputs": [
    {
     "name": "stdout",
     "output_type": "stream",
     "text": [
      "Enter name of day:Sunday\n",
      "There is holiday\n"
     ]
    }
   ],
   "source": [
    "a = input(\"Enter name of day:\")\n",
    "\n",
    "if a=='Sunday':\n",
    "    print(\"There is holiday\")\n",
    "    \n",
    "else:\n",
    "    print(\"boring Date\")\n"
   ]
  },
  {
   "cell_type": "code",
   "execution_count": 11,
   "id": "cab2303f",
   "metadata": {},
   "outputs": [
    {
     "data": {
      "text/plain": [
       "'dlrow olleH'"
      ]
     },
     "execution_count": 11,
     "metadata": {},
     "output_type": "execute_result"
    }
   ],
   "source": [
    "a=(\"Hello world\")[::-1]\n",
    "a"
   ]
  },
  {
   "cell_type": "code",
   "execution_count": 18,
   "id": "9c35f5ca",
   "metadata": {},
   "outputs": [
    {
     "name": "stdout",
     "output_type": "stream",
     "text": [
      "['a', 'b', 'c']\n"
     ]
    }
   ],
   "source": [
    "myList=[\"a\",\"b\",\"c\",\"c\"]\n",
    "myList=list(dict.fromkeys(myList))\n",
    "print(myList)"
   ]
  },
  {
   "cell_type": "code",
   "execution_count": 20,
   "id": "4ff0c98c",
   "metadata": {},
   "outputs": [
    {
     "name": "stdout",
     "output_type": "stream",
     "text": [
      "original arr[1, 2, 3, 4, 3, 4, 3, 4]\n",
      "list after removing[1, 2, 3, 4]\n"
     ]
    }
   ],
   "source": [
    "arr=[1,2,3,4,3,4,3,4]\n",
    "print(\"original arr\"+str(arr))\n",
    "res=[]\n",
    "for i in arr:\n",
    "    if i not in res:\n",
    "        res.append(i)\n",
    "print(\"list after removing\"+str(res))\n",
    "        "
   ]
  },
  {
   "cell_type": "code",
   "execution_count": null,
   "id": "bad70106",
   "metadata": {},
   "outputs": [],
   "source": []
  }
 ],
 "metadata": {
  "kernelspec": {
   "display_name": "Python 3 (ipykernel)",
   "language": "python",
   "name": "python3"
  },
  "language_info": {
   "codemirror_mode": {
    "name": "ipython",
    "version": 3
   },
   "file_extension": ".py",
   "mimetype": "text/x-python",
   "name": "python",
   "nbconvert_exporter": "python",
   "pygments_lexer": "ipython3",
   "version": "3.9.7"
  }
 },
 "nbformat": 4,
 "nbformat_minor": 5
}
