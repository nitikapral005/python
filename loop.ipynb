{
 "cells": [
  {
   "cell_type": "code",
   "execution_count": null,
   "id": "73cd9459",
   "metadata": {},
   "outputs": [],
   "source": [
    "#WAP to print number from 1-50 with alternate number\n",
    "for i in range (1,51,2):\n",
    "    print(i)"
   ]
  },
  {
   "cell_type": "code",
   "execution_count": 5,
   "id": "49bdbabe",
   "metadata": {},
   "outputs": [
    {
     "name": "stdout",
     "output_type": "stream",
     "text": [
      "-1\n",
      "0\n",
      "1\n",
      "2\n",
      "3\n",
      "4\n",
      "5\n",
      "6\n",
      "7\n",
      "8\n",
      "9\n",
      "10\n"
     ]
    }
   ],
   "source": [
    "# WAP to print number from -1 to 10\n",
    "for i in range (-1,11):\n",
    "    print(i)"
   ]
  },
  {
   "cell_type": "code",
   "execution_count": 7,
   "id": "c1429bdc",
   "metadata": {},
   "outputs": [
    {
     "name": "stdout",
     "output_type": "stream",
     "text": [
      "-1\n",
      "-2\n",
      "-3\n",
      "-4\n",
      "-5\n",
      "-6\n",
      "-7\n",
      "-8\n",
      "-9\n",
      "-10\n"
     ]
    }
   ],
   "source": [
    "# WAP to print from -1 to -10\n",
    "for i in range(-1,-11,-1):\n",
    "    print(i)"
   ]
  },
  {
   "cell_type": "code",
   "execution_count": 10,
   "id": "cd249f8c",
   "metadata": {},
   "outputs": [
    {
     "name": "stdout",
     "output_type": "stream",
     "text": [
      "1\n",
      "0\n",
      "-1\n",
      "-2\n",
      "-3\n",
      "-4\n",
      "-5\n",
      "-6\n",
      "-7\n",
      "-8\n",
      "-9\n",
      "-10\n"
     ]
    }
   ],
   "source": [
    "#WAP to print from 1 to -10\n",
    "for i in range (1,-11,-1):\n",
    "    print(i)"
   ]
  },
  {
   "cell_type": "code",
   "execution_count": 13,
   "id": "0c85828d",
   "metadata": {},
   "outputs": [
    {
     "name": "stdout",
     "output_type": "stream",
     "text": [
      "0\n",
      "2\n",
      "4\n",
      "6\n",
      "8\n",
      "10\n",
      "12\n",
      "14\n",
      "16\n",
      "18\n",
      "20\n",
      "22\n",
      "24\n",
      "26\n",
      "28\n",
      "30\n",
      "32\n",
      "34\n",
      "36\n",
      "38\n",
      "40\n",
      "42\n",
      "44\n",
      "46\n",
      "48\n",
      "50\n",
      "count------> 26\n"
     ]
    }
   ],
   "source": [
    "# WAP to print even from 1-50\n",
    "count =0\n",
    "for i in range(51):\n",
    "    if i%2==0:\n",
    "        print(i)\n",
    "        count= count+1\n",
    "print(\"count------>\",count)\n"
   ]
  },
  {
   "cell_type": "code",
   "execution_count": 14,
   "id": "8933e967",
   "metadata": {},
   "outputs": [
    {
     "name": "stdout",
     "output_type": "stream",
     "text": [
      "21\n",
      "23\n",
      "25\n",
      "27\n",
      "29\n",
      "31\n",
      "33\n",
      "35\n",
      "37\n",
      "39\n",
      "41\n",
      "43\n",
      "45\n",
      "47\n",
      "49\n",
      "51\n",
      "53\n",
      "55\n",
      "57\n",
      "59\n",
      "61\n",
      "63\n",
      "65\n",
      "67\n",
      "69\n",
      "71\n",
      "73\n",
      "75\n",
      "77\n",
      "79\n",
      "count------> 30\n"
     ]
    }
   ],
   "source": [
    "count =0\n",
    "for i in range(20,81):\n",
    "    if i%2!=0:\n",
    "        print(i)\n",
    "        count= count+1\n",
    "print(\"count------>\",count)\n"
   ]
  },
  {
   "cell_type": "code",
   "execution_count": 18,
   "id": "1ca840ef",
   "metadata": {},
   "outputs": [
    {
     "name": "stdout",
     "output_type": "stream",
     "text": [
      "h\n",
      "e\n",
      "l\n",
      "l\n",
      "o\n",
      "olleh\n",
      "reversed\n"
     ]
    }
   ],
   "source": [
    "x=\"hello\"\n",
    "y=''\n",
    "for i in  x:\n",
    "    print(i)\n",
    "    y=i+y\n",
    "print(y)\n",
    "if x !=y:\n",
    "    print(\"reversed\")\n",
    "else:\n",
    "    print(\"not reversed\")"
   ]
  },
  {
   "cell_type": "code",
   "execution_count": 19,
   "id": "dfd611ee",
   "metadata": {},
   "outputs": [
    {
     "name": "stdout",
     "output_type": "stream",
     "text": [
      "h\n",
      "e\n",
      "l\n",
      "l\n",
      "o\n",
      "olleh\n",
      "not Palindrome\n"
     ]
    }
   ],
   "source": [
    "x=\"hello\"\n",
    "y=''\n",
    "for i in  x:\n",
    "    print(i)\n",
    "    y=i+y\n",
    "print(y)\n",
    "if x ==y:\n",
    "    print(\"Palindrome\")\n",
    "else:\n",
    "    print(\"not Palindrome\")"
   ]
  },
  {
   "cell_type": "code",
   "execution_count": 2,
   "id": "34947069",
   "metadata": {},
   "outputs": [
    {
     "name": "stdout",
     "output_type": "stream",
     "text": [
      "Enter your experience: 4\n",
      "Enter your salary5000\n",
      "No Bonus\n"
     ]
    }
   ],
   "source": [
    "exp=int(input(\"Enter your experience: \"))\n",
    "sal=int(input(\"Enter your salary\"))\n",
    "if exp>5:\n",
    "    bonus=((sal*5)/100)\n",
    "    t_sal=sal+bonus\n",
    "    print(\"Total Salary:\", t_sal)\n",
    "    print(\"Bonus\",bonus)\n",
    "else:\n",
    "    print(\"No Bonus\")"
   ]
  },
  {
   "cell_type": "code",
   "execution_count": 5,
   "id": "c6a31590",
   "metadata": {},
   "outputs": [
    {
     "name": "stdout",
     "output_type": "stream",
     "text": [
      "No Square\n"
     ]
    }
   ],
   "source": [
    "length=5\n",
    "breadth=4\n",
    "area=6\n",
    "area_of_sq=area**2\n",
    "area_of_rect=length*breadth\n",
    "\n",
    "if area_of_sq==area_of_rect:\n",
    "    print(\"It is square\")\n",
    "else:\n",
    "    print(\"No Square\")"
   ]
  },
  {
   "cell_type": "code",
   "execution_count": 9,
   "id": "82927c1f",
   "metadata": {},
   "outputs": [
    {
     "name": "stdout",
     "output_type": "stream",
     "text": [
      "Enter first number56\n",
      "Enter second number78\n",
      "Enter third number45\n",
      "Greatest number is y\n"
     ]
    }
   ],
   "source": [
    "x=int(input(\"Enter first number\"))\n",
    "y=int(input(\"Enter second number\"))\n",
    "z=int(input(\"Enter third number\"))\n",
    "if x>y and x>z:\n",
    "    print(\"Greatest number is x\")\n",
    "elif y>x and y>z:\n",
    "    print(\"Greatest number is y\")\n",
    "elif z>x and z>y:\n",
    "    print(\"greatest number is z\")\n",
    "else:\n",
    "    print(\"Invalid output\")"
   ]
  },
  {
   "cell_type": "code",
   "execution_count": 12,
   "id": "7eb0c9ac",
   "metadata": {},
   "outputs": [
    {
     "name": "stdout",
     "output_type": "stream",
     "text": [
      "Enter quantity of items purchased: 11\n",
      "Discount:  110.0\n",
      "Total price of item:  990.0\n"
     ]
    }
   ],
   "source": [
    "unit_price=100\n",
    "item=int(input(\"Enter quantity of items purchased: \"))\n",
    "price= unit_price*item\n",
    "if price>=1000:\n",
    "    dis=(price*10)/100\n",
    "    payment=price-dis\n",
    "    print(\"Discount: \",dis)\n",
    "    print(\"Total price of item: \", payment)\n",
    "else:\n",
    "    print(\"No discount\")"
   ]
  },
  {
   "cell_type": "code",
   "execution_count": null,
   "id": "193dae6e",
   "metadata": {},
   "outputs": [],
   "source": []
  }
 ],
 "metadata": {
  "kernelspec": {
   "display_name": "Python 3 (ipykernel)",
   "language": "python",
   "name": "python3"
  },
  "language_info": {
   "codemirror_mode": {
    "name": "ipython",
    "version": 3
   },
   "file_extension": ".py",
   "mimetype": "text/x-python",
   "name": "python",
   "nbconvert_exporter": "python",
   "pygments_lexer": "ipython3",
   "version": "3.9.7"
  }
 },
 "nbformat": 4,
 "nbformat_minor": 5
}
