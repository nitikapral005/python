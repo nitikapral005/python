{
 "cells": [
  {
   "cell_type": "code",
   "execution_count": 7,
   "id": "f875bdc2",
   "metadata": {},
   "outputs": [
    {
     "data": {
      "text/plain": [
       "24.5"
      ]
     },
     "execution_count": 7,
     "metadata": {},
     "output_type": "execute_result"
    }
   ],
   "source": [
    "# simple Method of Inheritance\n",
    "\n",
    "class student1:\n",
    "    def __init__(self,hindi,eng):\n",
    "        self.hindi=hindi\n",
    "        self.eng=eng\n",
    "\n",
    "class student2(student1):\n",
    "    def __init__(self,hindi,eng):\n",
    "        student1.__init__(self,hindi,eng) # for inheritance\n",
    "    def average(self):\n",
    "        a=(self.hindi+self.eng)/2     # self is used to get access from class because we write logic here  \n",
    "        return a\n",
    "s=student2(24,25)\n",
    "s.average()"
   ]
  },
  {
   "cell_type": "code",
   "execution_count": 8,
   "id": "138ae08f",
   "metadata": {},
   "outputs": [
    {
     "data": {
      "text/plain": [
       "245.0"
      ]
     },
     "execution_count": 8,
     "metadata": {},
     "output_type": "execute_result"
    }
   ],
   "source": [
    "# Single Inheritance\n",
    "\n",
    "class student1:\n",
    "    def __init__(self,hindi,eng):\n",
    "        self.hindi=hindi\n",
    "        self.eng=eng\n",
    "\n",
    "class student2(student1):\n",
    "    def __init__(self,hindi,eng):\n",
    "        super().__init__(hindi,eng) # for inheritance\n",
    "    def average(self):\n",
    "        a=(self.hindi+self.eng)/2       \n",
    "        return a\n",
    "s=student2(240,250)\n",
    "s.average()"
   ]
  },
  {
   "cell_type": "code",
   "execution_count": null,
   "id": "0f2a12bb",
   "metadata": {},
   "outputs": [],
   "source": [
    "# Multilevel Inheritance----------->grandparent to parent\n",
    "class gpc:\n",
    "    def __init__(self,name):\n",
    "        self.name= name\n",
    "class pc(gpc):\n",
    "    def __init__(self,name,age):\n",
    "        super().__init__(name)\n",
    "        self.age=age\n",
    "class cc(pc):\n",
    "    def __init__(self,sal):\n",
    "        super().__init__(age)\n",
    "        self.sal=sal\n",
    "\n",
    "p= pc('asdfg',23)\n",
    "p.name\n",
    "    "
   ]
  },
  {
   "cell_type": "code",
   "execution_count": null,
   "id": "a66d8334",
   "metadata": {},
   "outputs": [],
   "source": [
    "# Multilevel Inheritance----------->parent to child\n",
    "class gpc:\n",
    "    def __init__(self,name):\n",
    "        self.name= name\n",
    "class pc:\n",
    "    def __init__(self,age):\n",
    "        self.age=age\n",
    "class cc(pc):\n",
    "    def __init__(self,age,sal):\n",
    "        super().__init__(age)\n",
    "        self.sal=sal\n",
    "\n",
    "p= cc(23,23000)\n",
    "p.sal\n",
    "    "
   ]
  },
  {
   "cell_type": "code",
   "execution_count": null,
   "id": "4d7c8468",
   "metadata": {},
   "outputs": [],
   "source": [
    "# grandparent to child\n",
    "\n",
    "class gpc:\n",
    "    def __init__(self,name):\n",
    "        self.name= name\n",
    "class pc:\n",
    "    def __init__(self,age):\n",
    "        self.age=age\n",
    "class cc(gpc):\n",
    "    def __init__(self,name,sal):\n",
    "        super().__init__(name)\n",
    "        self.sal=sal\n",
    "\n",
    "p= cc('asdf',23000)\n",
    "p.sal\n",
    "p.name\n",
    "    "
   ]
  },
  {
   "cell_type": "code",
   "execution_count": null,
   "id": "dd20a777",
   "metadata": {},
   "outputs": [],
   "source": [
    "#gpc--->pc---->cc\n",
    "class gpc:\n",
    "    def __init__(self,name):\n",
    "        self.name= name\n",
    "\n",
    "class pc(gpc):\n",
    "    def __init__(self,name,age):\n",
    "        super().__init__(name)\n",
    "        self.age=age\n",
    "\n",
    "        \n",
    "class cc(pc):\n",
    "    def __init__(self,name,age,sal):\n",
    "        super().__init__(name,age)\n",
    "        self.sal=sal\n",
    "\n",
    "p= cc(\"asdf\",23,23000)\n",
    "p.name\n",
    "\n",
    "    "
   ]
  },
  {
   "cell_type": "code",
   "execution_count": 28,
   "id": "10ed6ea2",
   "metadata": {},
   "outputs": [
    {
     "data": {
      "text/plain": [
       "23"
      ]
     },
     "execution_count": 28,
     "metadata": {},
     "output_type": "execute_result"
    }
   ],
   "source": [
    "p.age"
   ]
  },
  {
   "cell_type": "code",
   "execution_count": 24,
   "id": "69184206",
   "metadata": {},
   "outputs": [
    {
     "data": {
      "text/plain": [
       "23000"
      ]
     },
     "execution_count": 24,
     "metadata": {},
     "output_type": "execute_result"
    }
   ],
   "source": [
    "p.sal"
   ]
  },
  {
   "cell_type": "code",
   "execution_count": 30,
   "id": "be4b8053",
   "metadata": {},
   "outputs": [
    {
     "data": {
      "text/plain": [
       "'Computer Science'"
      ]
     },
     "execution_count": 30,
     "metadata": {},
     "output_type": "execute_result"
    }
   ],
   "source": [
    "# WAP to perform Multilevel inheritance and try to get the attributes of each class.\n",
    "\n",
    "\n",
    "class cls1:\n",
    "    def __init__(self,subject1):\n",
    "        self.subject1=subject1\n",
    "        \n",
    "class cls2(cls1):\n",
    "    def __init__(self,subject1,subject2):\n",
    "        super().__init__(subject1)\n",
    "        self.subject2=subject2\n",
    "        \n",
    "class cls3(cls2):\n",
    "    def __init__(self,subject1,subject2,subject3):\n",
    "        super().__init__(subject1,subject2)\n",
    "        self.subject3=subject3\n",
    "\n",
    "c= cls3('Math','English','Computer Science')\n",
    "c.subject3"
   ]
  },
  {
   "cell_type": "code",
   "execution_count": 31,
   "id": "cae0ba33",
   "metadata": {},
   "outputs": [
    {
     "data": {
      "text/plain": [
       "'English'"
      ]
     },
     "execution_count": 31,
     "metadata": {},
     "output_type": "execute_result"
    }
   ],
   "source": [
    "c.subject2"
   ]
  },
  {
   "cell_type": "code",
   "execution_count": 32,
   "id": "e2a2a9a1",
   "metadata": {},
   "outputs": [
    {
     "data": {
      "text/plain": [
       "'Math'"
      ]
     },
     "execution_count": 32,
     "metadata": {},
     "output_type": "execute_result"
    }
   ],
   "source": [
    "c.subject1"
   ]
  },
  {
   "cell_type": "code",
   "execution_count": 33,
   "id": "d5129c2f",
   "metadata": {},
   "outputs": [
    {
     "data": {
      "text/plain": [
       "'abs'"
      ]
     },
     "execution_count": 33,
     "metadata": {},
     "output_type": "execute_result"
    }
   ],
   "source": [
    "# WAP to make 3 class in which one of the class is totally empty\n",
    "class cls1:\n",
    "    pass\n",
    "\n",
    "class cls2(cls1):\n",
    "    def __init__(self,name):\n",
    "        super().__init__()\n",
    "        self.name=name\n",
    "        \n",
    "class cls3(cls2):\n",
    "    def __init__(self,name,age):\n",
    "        super().__init__(name)\n",
    "        self.age=age\n",
    "d=cls3(\"abs\",23)\n",
    "d.name"
   ]
  },
  {
   "cell_type": "code",
   "execution_count": 34,
   "id": "49211f8f",
   "metadata": {},
   "outputs": [
    {
     "data": {
      "text/plain": [
       "23"
      ]
     },
     "execution_count": 34,
     "metadata": {},
     "output_type": "execute_result"
    }
   ],
   "source": [
    "d.age"
   ]
  },
  {
   "cell_type": "code",
   "execution_count": 2,
   "id": "ca977f1e",
   "metadata": {},
   "outputs": [
    {
     "data": {
      "text/plain": [
       "2"
      ]
     },
     "execution_count": 2,
     "metadata": {},
     "output_type": "execute_result"
    }
   ],
   "source": [
    "class one:\n",
    "    def __init__(self,id):\n",
    "        self.id=id\n",
    "class two(one):\n",
    "    def __init__(self,id,name):\n",
    "        super().__init__(id)\n",
    "        self.name=name\n",
    "        \n",
    "s=two(2,\"Rahul\")\n",
    "s.id\n",
    "    "
   ]
  },
  {
   "cell_type": "code",
   "execution_count": 3,
   "id": "4bedac07",
   "metadata": {},
   "outputs": [
    {
     "data": {
      "text/plain": [
       "'Rahul'"
      ]
     },
     "execution_count": 3,
     "metadata": {},
     "output_type": "execute_result"
    }
   ],
   "source": [
    "s.name"
   ]
  },
  {
   "cell_type": "code",
   "execution_count": null,
   "id": "e78ed603",
   "metadata": {},
   "outputs": [],
   "source": []
  }
 ],
 "metadata": {
  "kernelspec": {
   "display_name": "Python 3 (ipykernel)",
   "language": "python",
   "name": "python3"
  },
  "language_info": {
   "codemirror_mode": {
    "name": "ipython",
    "version": 3
   },
   "file_extension": ".py",
   "mimetype": "text/x-python",
   "name": "python",
   "nbconvert_exporter": "python",
   "pygments_lexer": "ipython3",
   "version": "3.9.7"
  }
 },
 "nbformat": 4,
 "nbformat_minor": 5
}
